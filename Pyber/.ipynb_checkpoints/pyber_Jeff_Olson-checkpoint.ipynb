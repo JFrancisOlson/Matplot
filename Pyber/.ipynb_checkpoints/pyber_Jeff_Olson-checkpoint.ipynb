{
 "cells": [
  {
   "cell_type": "code",
   "execution_count": 63,
   "metadata": {},
   "outputs": [
    {
     "name": "stdout",
     "output_type": "stream",
     "text": [
      "           city  driver_count   type\n",
      "0   Richardfort            38  Urban\n",
      "1  Williamsstad            59  Urban\n",
      "2   Port Angela            67  Urban\n",
      "3    Rodneyfort            34  Urban\n",
      "4   West Robert            39  Urban\n",
      "                 city                 date   fare        ride_id\n",
      "0  Lake Jonathanshire  2018-01-14 10:14:22  13.83  5739410935873\n",
      "1  South Michelleport  2018-03-04 18:24:09  30.24  2343912425577\n",
      "2  Port Samanthamouth  2018-02-24 04:29:00  33.44  2005065760003\n",
      "3          Rodneyfort  2018-02-10 23:22:03  23.44  5149245426178\n",
      "4          South Jack  2018-03-06 04:28:35  34.58  3908451377344\n"
     ]
    },
    {
     "data": {
      "text/html": [
       "<div>\n",
       "<style scoped>\n",
       "    .dataframe tbody tr th:only-of-type {\n",
       "        vertical-align: middle;\n",
       "    }\n",
       "\n",
       "    .dataframe tbody tr th {\n",
       "        vertical-align: top;\n",
       "    }\n",
       "\n",
       "    .dataframe thead th {\n",
       "        text-align: right;\n",
       "    }\n",
       "</style>\n",
       "<table border=\"1\" class=\"dataframe\">\n",
       "  <thead>\n",
       "    <tr style=\"text-align: right;\">\n",
       "      <th></th>\n",
       "      <th>city</th>\n",
       "      <th>date</th>\n",
       "      <th>fare</th>\n",
       "      <th>ride_id</th>\n",
       "      <th>driver_count</th>\n",
       "      <th>type</th>\n",
       "    </tr>\n",
       "  </thead>\n",
       "  <tbody>\n",
       "    <tr>\n",
       "      <th>0</th>\n",
       "      <td>Lake Jonathanshire</td>\n",
       "      <td>2018-01-14 10:14:22</td>\n",
       "      <td>13.83</td>\n",
       "      <td>5739410935873</td>\n",
       "      <td>5</td>\n",
       "      <td>Urban</td>\n",
       "    </tr>\n",
       "    <tr>\n",
       "      <th>1</th>\n",
       "      <td>Lake Jonathanshire</td>\n",
       "      <td>2018-04-07 20:51:11</td>\n",
       "      <td>31.25</td>\n",
       "      <td>4441251834598</td>\n",
       "      <td>5</td>\n",
       "      <td>Urban</td>\n",
       "    </tr>\n",
       "    <tr>\n",
       "      <th>2</th>\n",
       "      <td>Lake Jonathanshire</td>\n",
       "      <td>2018-03-09 23:45:55</td>\n",
       "      <td>19.89</td>\n",
       "      <td>2389495660448</td>\n",
       "      <td>5</td>\n",
       "      <td>Urban</td>\n",
       "    </tr>\n",
       "    <tr>\n",
       "      <th>3</th>\n",
       "      <td>Lake Jonathanshire</td>\n",
       "      <td>2018-04-07 18:09:21</td>\n",
       "      <td>24.28</td>\n",
       "      <td>7796805191168</td>\n",
       "      <td>5</td>\n",
       "      <td>Urban</td>\n",
       "    </tr>\n",
       "    <tr>\n",
       "      <th>4</th>\n",
       "      <td>Lake Jonathanshire</td>\n",
       "      <td>2018-01-02 14:14:50</td>\n",
       "      <td>13.89</td>\n",
       "      <td>424254840012</td>\n",
       "      <td>5</td>\n",
       "      <td>Urban</td>\n",
       "    </tr>\n",
       "  </tbody>\n",
       "</table>\n",
       "</div>"
      ],
      "text/plain": [
       "                 city                 date   fare        ride_id  \\\n",
       "0  Lake Jonathanshire  2018-01-14 10:14:22  13.83  5739410935873   \n",
       "1  Lake Jonathanshire  2018-04-07 20:51:11  31.25  4441251834598   \n",
       "2  Lake Jonathanshire  2018-03-09 23:45:55  19.89  2389495660448   \n",
       "3  Lake Jonathanshire  2018-04-07 18:09:21  24.28  7796805191168   \n",
       "4  Lake Jonathanshire  2018-01-02 14:14:50  13.89   424254840012   \n",
       "\n",
       "   driver_count   type  \n",
       "0             5  Urban  \n",
       "1             5  Urban  \n",
       "2             5  Urban  \n",
       "3             5  Urban  \n",
       "4             5  Urban  "
      ]
     },
     "execution_count": 63,
     "metadata": {},
     "output_type": "execute_result"
    }
   ],
   "source": [
    "%matplotlib inline\n",
    "# Dependencies and Setup\n",
    "import matplotlib.pyplot as plt\n",
    "import pandas as pd\n",
    "import numpy as np\n",
    "\n",
    "# File to Load (Remember to change these)\n",
    "#city_data_to_load = \"data/city_data.csv\"\n",
    "#ride_data_to_load = \"data/ride_data.csv\"\n",
    "\n",
    "# Read the City and Ride Data\n",
    "City_Data_df = pd.read_csv(\"data/city_data.csv\")\n",
    "Ride_Data_df = pd.read_csv(\"data/ride_data.csv\")\n",
    "print(City_Data_df.head())\n",
    "print(Ride_Data_df.head())\n",
    "\n",
    "# Combine the data into a single dataset\n",
    "city_and_ride_df = pd.merge(Ride_Data_df, City_Data_df, how='right', on=\"city\")\n",
    "\n",
    "# Display the data table for preview\n",
    "city_and_ride_df.head()"
   ]
  },
  {
   "cell_type": "markdown",
   "metadata": {},
   "source": [
    "## Bubble Plot of Ride Sharing Data"
   ]
  },
  {
   "cell_type": "code",
   "execution_count": 64,
   "metadata": {},
   "outputs": [
    {
     "data": {
      "text/plain": [
       "array([ 0,  5, 10, 15, 20, 25, 30, 35, 40, 45, 50])"
      ]
     },
     "execution_count": 64,
     "metadata": {},
     "output_type": "execute_result"
    }
   ],
   "source": [
    "x_limit = 40\n",
    "\n",
    "# List of values from 0 to 40 each value being 1 greater than the last\n",
    "x_axis = np.arange(0, x_limit+15, 5)\n",
    "x_axis\n",
    "\n"
   ]
  },
  {
   "cell_type": "code",
   "execution_count": 65,
   "metadata": {},
   "outputs": [
    {
     "data": {
      "text/plain": [
       "5.322727272727272"
      ]
     },
     "execution_count": 65,
     "metadata": {},
     "output_type": "execute_result"
    }
   ],
   "source": [
    "increment=city_and_ride_df[\"fare\"].max()/(len(x_axis))\n",
    "increment"
   ]
  },
  {
   "cell_type": "code",
   "execution_count": 66,
   "metadata": {},
   "outputs": [
    {
     "data": {
      "text/plain": [
       "city             object\n",
       "date             object\n",
       "fare            float64\n",
       "ride_id           int64\n",
       "driver_count      int64\n",
       "type             object\n",
       "dtype: object"
      ]
     },
     "execution_count": 66,
     "metadata": {},
     "output_type": "execute_result"
    }
   ],
   "source": [
    "city_and_ride_df.dtypes"
   ]
  },
  {
   "cell_type": "code",
   "execution_count": 67,
   "metadata": {},
   "outputs": [
    {
     "data": {
      "text/plain": [
       "array([ 3.,  8., 13., 18., 23., 28., 33., 38., 43., 48., 53., 58., 63.])"
      ]
     },
     "execution_count": 67,
     "metadata": {},
     "output_type": "execute_result"
    }
   ],
   "source": [
    "# Create a random array of data that we will use for our y values\n",
    "fare_max=city_and_ride_df[\"fare\"].max()\n",
    "#y_limit=60\n",
    "data = np.arange(3.0,(fare_max+6.45),5)\n",
    "data"
   ]
  },
  {
   "cell_type": "code",
   "execution_count": 113,
   "metadata": {},
   "outputs": [
    {
     "data": {
      "text/plain": [
       "MultiIndex(levels=[['Alice', 'Bob', 'Mallory'], ['Portland', 'Seattle']],\n",
       "           labels=[[0, 1, 2, 2], [1, 1, 0, 1]],\n",
       "           names=['Name', 'City'])"
      ]
     },
     "execution_count": 113,
     "metadata": {},
     "output_type": "execute_result"
    }
   ],
   "source": [
    "df1 = pd.DataFrame( { \n",
    "    \"Name\" : [\"Alice\", \"Bob\", \"Mallory\", \"Mallory\", \"Bob\" , \"Mallory\"] , \n",
    "    \"City\" : [\"Seattle\", \"Seattle\", \"Portland\", \"Seattle\", \"Seattle\", \"Portland\"] } )\n",
    "g1 = df1.groupby( [ \"Name\", \"City\"] ).count()\n",
    "g1.index\n",
    "#g1"
   ]
  },
  {
   "cell_type": "code",
   "execution_count": 182,
   "metadata": {},
   "outputs": [],
   "source": [
    "# We only want unique gender data. create a new table that takes the SN and the Gender columns \n",
    "#player_demographics = purchase_data_pd.loc[:, [\"Gender\", \"SN\", \"Age\"]]\n",
    "#player_demographics = player_demographics.drop_duplicates()\n",
    "#num_players = player_demographics.count()[0]\n",
    "#pd.DataFrame({\"Total Players\": [num_players]})"
   ]
  },
  {
   "cell_type": "code",
   "execution_count": 183,
   "metadata": {},
   "outputs": [
    {
     "name": "stdout",
     "output_type": "stream",
     "text": [
      "______\n",
      "                 city                 date   fare        ride_id  \\\n",
      "0  Lake Jonathanshire  2018-01-14 10:14:22  13.83  5739410935873   \n",
      "\n",
      "   driver_count   type  \n",
      "0             5  Urban  \n",
      "______\n",
      "['Lake Jonathanshire' 'South Michelleport' 'Port Samanthamouth'\n",
      " 'Rodneyfort' 'South Jack' 'South Latoya' 'New Paulville' 'Simpsonburgh'\n",
      " 'South Karenland' 'North Jasmine' 'New Kimberlyborough' 'West Angela'\n",
      " 'Roberthaven' 'North Jason' 'Williamsview' 'Leahton' 'West Anthony'\n",
      " 'New Paulton' 'West Patrickchester' 'Deanville' 'West Josephberg'\n",
      " 'West Samuelburgh' 'West Heidi' 'Loganberg' 'Huntermouth' 'Grahamburgh'\n",
      " 'Port Frank' 'East Kaylahaven' 'West Robert' 'North Markport'\n",
      " 'Richardfort' 'Reynoldsfurt' 'Justinberg' 'Martinezhaven' 'Jerryton'\n",
      " 'Lake Scottton' 'South Evanton' 'Rogerston' 'West Ericstad' 'Hurleymouth'\n",
      " 'Joneschester' 'Port Angela' 'Barajasview' 'West Christopherberg'\n",
      " 'New Jacobville' 'Port David' 'Valentineton' 'Carriemouth' 'Williamsstad'\n",
      " 'Royland' 'Karenberg' 'Christopherfurt' 'Liumouth' 'Johnton' 'Erikaland'\n",
      " 'Raymondhaven' 'Karenside' 'Lake Danielberg' 'South Phillip'\n",
      " 'North Madeline' 'Port Johnbury' 'Robertport' 'Pattyland' 'Amandaburgh'\n",
      " 'North Barbara' 'West Gabriel']\n",
      "______\n",
      "There are 66 urban cities\n",
      "______\n",
      "59602\n"
     ]
    },
    {
     "data": {
      "text/html": [
       "<div>\n",
       "<style scoped>\n",
       "    .dataframe tbody tr th:only-of-type {\n",
       "        vertical-align: middle;\n",
       "    }\n",
       "\n",
       "    .dataframe tbody tr th {\n",
       "        vertical-align: top;\n",
       "    }\n",
       "\n",
       "    .dataframe thead th {\n",
       "        text-align: right;\n",
       "    }\n",
       "</style>\n",
       "<table border=\"1\" class=\"dataframe\">\n",
       "  <thead>\n",
       "    <tr style=\"text-align: right;\">\n",
       "      <th></th>\n",
       "      <th>index</th>\n",
       "      <th>city</th>\n",
       "      <th>driver_count</th>\n",
       "    </tr>\n",
       "  </thead>\n",
       "  <tbody>\n",
       "    <tr>\n",
       "      <th>0</th>\n",
       "      <td>0</td>\n",
       "      <td>Lake Jonathanshire</td>\n",
       "      <td>5</td>\n",
       "    </tr>\n",
       "    <tr>\n",
       "      <th>1</th>\n",
       "      <td>24</td>\n",
       "      <td>South Michelleport</td>\n",
       "      <td>72</td>\n",
       "    </tr>\n",
       "    <tr>\n",
       "      <th>2</th>\n",
       "      <td>55</td>\n",
       "      <td>Port Samanthamouth</td>\n",
       "      <td>57</td>\n",
       "    </tr>\n",
       "    <tr>\n",
       "      <th>3</th>\n",
       "      <td>80</td>\n",
       "      <td>Rodneyfort</td>\n",
       "      <td>34</td>\n",
       "    </tr>\n",
       "    <tr>\n",
       "      <th>4</th>\n",
       "      <td>103</td>\n",
       "      <td>South Jack</td>\n",
       "      <td>46</td>\n",
       "    </tr>\n",
       "  </tbody>\n",
       "</table>\n",
       "</div>"
      ],
      "text/plain": [
       "   index                city  driver_count\n",
       "0      0  Lake Jonathanshire             5\n",
       "1     24  South Michelleport            72\n",
       "2     55  Port Samanthamouth            57\n",
       "3     80          Rodneyfort            34\n",
       "4    103          South Jack            46"
      ]
     },
     "execution_count": 183,
     "metadata": {},
     "output_type": "execute_result"
    }
   ],
   "source": [
    "Urban_driver_df = city_and_ride_df.loc[city_and_ride_df[\"type\"] == \"Urban\", :]\n",
    "print(\"______\")\n",
    "#Urban_CR_df[\"fare\"] = Urban_CR_df[\"fare\"].map(\"${:.2f}\".format)\n",
    "print(Urban_CR_df.head(1))\n",
    "\n",
    "print(\"______\")\n",
    "city_count_df=Urban_driver_df[\"city\"].unique()\n",
    "print(city_count_df)\n",
    "\n",
    "print(\"______\")\n",
    "city_count=len(city_count_df)\n",
    "print(\"There are \" + str(city_count) + \" urban cities\")\n",
    "\n",
    "print(\"______\")\n",
    "total_urban_driver=Urban_driver_df[\"type\"].count()\n",
    "print(total_urban_driver_count)\n",
    "\n",
    "urban_drivers_per_city_demographics = Urban_CR_df.loc[:, [\"city\", \"driver_count\"]]\n",
    "urban_drivers_per_city = urban_drivers_per_city_demographics.drop_duplicates()\n",
    "urban_drivers_per_city.reset_index(inplace=True)\n",
    "urban_drivers_per_city.head()"
   ]
  },
  {
   "cell_type": "code",
   "execution_count": 184,
   "metadata": {},
   "outputs": [
    {
     "name": "stdout",
     "output_type": "stream",
     "text": [
      "______\n",
      "               city                 date   fare        ride_id  driver_count  \\\n",
      "1625  Barronchester  2018-01-27 03:08:01  27.79  6653622887913            11   \n",
      "\n",
      "          type  \n",
      "1625  Suburban  \n",
      "______\n",
      "['Barronchester' 'East Kentstad' 'Lake Omar' 'Myersshire' 'West Hannah'\n",
      " 'East Marymouth' 'New Raymond' 'Lake Robertside' 'Josephside'\n",
      " 'Brandonfort' 'Lewisland' 'North Richardhaven' 'New Olivia'\n",
      " 'New Shannonberg' 'Nicolechester' 'Victoriaport' 'South Teresa'\n",
      " 'East Aaronbury' 'Bethanyland' 'Lake Scott' 'North Jeffrey'\n",
      " 'Rodriguezview' 'Sotoville' 'South Brenda' 'Port Shane' 'North Timothy'\n",
      " 'Veronicaberg' 'Williamsonville' 'Lewishaven' 'Lake Ann' 'Grayville'\n",
      " 'Colemanland' 'West Kimmouth' 'Mezachester' 'Davidfurt' 'East Danielview']\n",
      "______\n",
      "There are 36 suburban cities\n",
      "______\n",
      "625\n"
     ]
    },
    {
     "data": {
      "text/html": [
       "<div>\n",
       "<style scoped>\n",
       "    .dataframe tbody tr th:only-of-type {\n",
       "        vertical-align: middle;\n",
       "    }\n",
       "\n",
       "    .dataframe tbody tr th {\n",
       "        vertical-align: top;\n",
       "    }\n",
       "\n",
       "    .dataframe thead th {\n",
       "        text-align: right;\n",
       "    }\n",
       "</style>\n",
       "<table border=\"1\" class=\"dataframe\">\n",
       "  <thead>\n",
       "    <tr style=\"text-align: right;\">\n",
       "      <th></th>\n",
       "      <th>index</th>\n",
       "      <th>city</th>\n",
       "      <th>driver_count</th>\n",
       "    </tr>\n",
       "  </thead>\n",
       "  <tbody>\n",
       "    <tr>\n",
       "      <th>0</th>\n",
       "      <td>1625</td>\n",
       "      <td>Barronchester</td>\n",
       "      <td>11</td>\n",
       "    </tr>\n",
       "    <tr>\n",
       "      <th>1</th>\n",
       "      <td>1641</td>\n",
       "      <td>East Kentstad</td>\n",
       "      <td>20</td>\n",
       "    </tr>\n",
       "    <tr>\n",
       "      <th>2</th>\n",
       "      <td>1654</td>\n",
       "      <td>Lake Omar</td>\n",
       "      <td>22</td>\n",
       "    </tr>\n",
       "    <tr>\n",
       "      <th>3</th>\n",
       "      <td>1668</td>\n",
       "      <td>Myersshire</td>\n",
       "      <td>19</td>\n",
       "    </tr>\n",
       "    <tr>\n",
       "      <th>4</th>\n",
       "      <td>1684</td>\n",
       "      <td>West Hannah</td>\n",
       "      <td>12</td>\n",
       "    </tr>\n",
       "  </tbody>\n",
       "</table>\n",
       "</div>"
      ],
      "text/plain": [
       "   index           city  driver_count\n",
       "0   1625  Barronchester            11\n",
       "1   1641  East Kentstad            20\n",
       "2   1654      Lake Omar            22\n",
       "3   1668     Myersshire            19\n",
       "4   1684    West Hannah            12"
      ]
     },
     "execution_count": 184,
     "metadata": {},
     "output_type": "execute_result"
    }
   ],
   "source": [
    "Suburban_CR_df = city_and_ride_df.loc[city_and_ride_df[\"type\"] == \"Suburban\", :]\n",
    "print(\"______\")\n",
    "#Urban_CR_df[\"fare\"] = Urban_CR_df[\"fare\"].map(\"${:.2f}\".format)\n",
    "print(Suburban_CR_df.head(1))\n",
    "\n",
    "print(\"______\")\n",
    "Suburban_city_count_df=Suburban_CR_df[\"city\"].unique()\n",
    "print(Suburban_city_count_df)\n",
    "\n",
    "print(\"______\")\n",
    "Suburban_city_count=len(Suburban_city_count_df)\n",
    "print(\"There are \" + str(Suburban_city_count) + \" suburban cities\")\n",
    "\n",
    "print(\"______\")\n",
    "total_Suburban_driver_count=Suburban_CR_df[\"type\"].count()\n",
    "print(total_Suburban_driver_count)\n",
    "\n",
    "suburban_drivers_per_city_demographics = Suburban_CR_df.loc[:, [\"city\", \"driver_count\"]]\n",
    "suburban_drivers_per_city = suburban_drivers_per_city_demographics.drop_duplicates()\n",
    "suburban_drivers_per_city.reset_index(inplace=True)\n",
    "suburban_drivers_per_city.head()"
   ]
  },
  {
   "cell_type": "code",
   "execution_count": 260,
   "metadata": {},
   "outputs": [
    {
     "data": {
      "text/html": [
       "<div>\n",
       "<style scoped>\n",
       "    .dataframe tbody tr th:only-of-type {\n",
       "        vertical-align: middle;\n",
       "    }\n",
       "\n",
       "    .dataframe tbody tr th {\n",
       "        vertical-align: top;\n",
       "    }\n",
       "\n",
       "    .dataframe thead th {\n",
       "        text-align: right;\n",
       "    }\n",
       "</style>\n",
       "<table border=\"1\" class=\"dataframe\">\n",
       "  <thead>\n",
       "    <tr style=\"text-align: right;\">\n",
       "      <th></th>\n",
       "      <th>city</th>\n",
       "      <th>Rides (per City)</th>\n",
       "      <th>Average Fare</th>\n",
       "      <th>Driver Density</th>\n",
       "    </tr>\n",
       "  </thead>\n",
       "  <tbody>\n",
       "    <tr>\n",
       "      <th>0</th>\n",
       "      <td>Barronchester</td>\n",
       "      <td>NaN</td>\n",
       "      <td>NaN</td>\n",
       "      <td>11</td>\n",
       "    </tr>\n",
       "    <tr>\n",
       "      <th>1</th>\n",
       "      <td>East Kentstad</td>\n",
       "      <td>NaN</td>\n",
       "      <td>NaN</td>\n",
       "      <td>20</td>\n",
       "    </tr>\n",
       "    <tr>\n",
       "      <th>2</th>\n",
       "      <td>Lake Omar</td>\n",
       "      <td>NaN</td>\n",
       "      <td>NaN</td>\n",
       "      <td>22</td>\n",
       "    </tr>\n",
       "    <tr>\n",
       "      <th>3</th>\n",
       "      <td>Myersshire</td>\n",
       "      <td>NaN</td>\n",
       "      <td>NaN</td>\n",
       "      <td>19</td>\n",
       "    </tr>\n",
       "    <tr>\n",
       "      <th>4</th>\n",
       "      <td>West Hannah</td>\n",
       "      <td>NaN</td>\n",
       "      <td>NaN</td>\n",
       "      <td>12</td>\n",
       "    </tr>\n",
       "  </tbody>\n",
       "</table>\n",
       "</div>"
      ],
      "text/plain": [
       "            city  Rides (per City)  Average Fare  Driver Density\n",
       "0  Barronchester               NaN           NaN              11\n",
       "1  East Kentstad               NaN           NaN              20\n",
       "2      Lake Omar               NaN           NaN              22\n",
       "3     Myersshire               NaN           NaN              19\n",
       "4    West Hannah               NaN           NaN              12"
      ]
     },
     "execution_count": 260,
     "metadata": {},
     "output_type": "execute_result"
    }
   ],
   "source": [
    "Urban_CR_df = city_and_ride_df.loc[city_and_ride_df[\"type\"] == \"Urban\", :]\n",
    "grouped_Urban_CR_df = Urban_CR_df.groupby([\"city\"])\n",
    "#print(\"_____\")\n",
    "Urban_Rides_By_City = pd.DataFrame(grouped_Urban_CR_df[\"ride_id\"].count())\n",
    "#print(Rural_Rides_By_City)\n",
    "\n",
    "Urban_Avg_Fare_By_City = pd.DataFrame(grouped_Urban_CR_df[\"fare\"].mean())\n",
    "#print(Rural_Avg_Fare_By_City)\n",
    "\n",
    "Urban_merge_table_1 = pd.merge(Urban_Rides_By_City, Urban_Avg_Fare_By_City , on=\"city\", how=\"right\")\n",
    "Urban_merge_table_1 \n",
    "\n",
    "\n",
    "Urban_drivers_per_city_demographics = Suburban_CR_df.loc[:, [\"city\", \"driver_count\"]]\n",
    "Urban_drivers_per_city = pd.DataFrame(Urban_drivers_per_city_demographics.drop_duplicates())\n",
    "\n",
    "Urban_merge_table_2 = pd.merge(Urban_merge_table_1 , Urban_drivers_per_city, on=\"city\", how=\"right\")\n",
    "Urban_merge_table_2\n",
    "\n",
    "Urban_Summary_df = Urban_merge_table_2.rename(columns={\"city\": \"city\",\n",
    "                                        \"ride_id\": \"Rides (per City)\",\n",
    "                                        \"fare\": \"Average Fare\",\n",
    "                                        \"driver_count\": \"Driver Density\",\n",
    "                                         })\n",
    "Urban_Summary_df.head()"
   ]
  },
  {
   "cell_type": "code",
   "execution_count": 261,
   "metadata": {},
   "outputs": [
    {
     "data": {
      "text/html": [
       "<div>\n",
       "<style scoped>\n",
       "    .dataframe tbody tr th:only-of-type {\n",
       "        vertical-align: middle;\n",
       "    }\n",
       "\n",
       "    .dataframe tbody tr th {\n",
       "        vertical-align: top;\n",
       "    }\n",
       "\n",
       "    .dataframe thead th {\n",
       "        text-align: right;\n",
       "    }\n",
       "</style>\n",
       "<table border=\"1\" class=\"dataframe\">\n",
       "  <thead>\n",
       "    <tr style=\"text-align: right;\">\n",
       "      <th></th>\n",
       "      <th>city</th>\n",
       "      <th>Rides (per City)</th>\n",
       "      <th>Average Fare</th>\n",
       "      <th>Driver Density</th>\n",
       "    </tr>\n",
       "  </thead>\n",
       "  <tbody>\n",
       "    <tr>\n",
       "      <th>0</th>\n",
       "      <td>Barronchester</td>\n",
       "      <td>16</td>\n",
       "      <td>36.422500</td>\n",
       "      <td>11</td>\n",
       "    </tr>\n",
       "    <tr>\n",
       "      <th>1</th>\n",
       "      <td>Bethanyland</td>\n",
       "      <td>18</td>\n",
       "      <td>32.956111</td>\n",
       "      <td>22</td>\n",
       "    </tr>\n",
       "    <tr>\n",
       "      <th>2</th>\n",
       "      <td>Brandonfort</td>\n",
       "      <td>19</td>\n",
       "      <td>35.437368</td>\n",
       "      <td>10</td>\n",
       "    </tr>\n",
       "    <tr>\n",
       "      <th>3</th>\n",
       "      <td>Colemanland</td>\n",
       "      <td>22</td>\n",
       "      <td>30.894545</td>\n",
       "      <td>23</td>\n",
       "    </tr>\n",
       "    <tr>\n",
       "      <th>4</th>\n",
       "      <td>Davidfurt</td>\n",
       "      <td>17</td>\n",
       "      <td>31.995882</td>\n",
       "      <td>23</td>\n",
       "    </tr>\n",
       "  </tbody>\n",
       "</table>\n",
       "</div>"
      ],
      "text/plain": [
       "            city  Rides (per City)  Average Fare  Driver Density\n",
       "0  Barronchester                16     36.422500              11\n",
       "1    Bethanyland                18     32.956111              22\n",
       "2    Brandonfort                19     35.437368              10\n",
       "3    Colemanland                22     30.894545              23\n",
       "4      Davidfurt                17     31.995882              23"
      ]
     },
     "execution_count": 261,
     "metadata": {},
     "output_type": "execute_result"
    }
   ],
   "source": [
    "Suburban_CR_df = city_and_ride_df.loc[city_and_ride_df[\"type\"] == \"Suburban\", :]\n",
    "grouped_Suburban_CR_df = Suburban_CR_df.groupby([\"city\"])\n",
    "#print(\"_____\")\n",
    "Suburban_Rides_By_City = pd.DataFrame(grouped_Suburban_CR_df[\"ride_id\"].count())\n",
    "#print(Rural_Rides_By_City)\n",
    "\n",
    "Suburban_Avg_Fare_By_City = pd.DataFrame(grouped_Suburban_CR_df[\"fare\"].mean())\n",
    "#print(Rural_Avg_Fare_By_City)\n",
    "\n",
    "Suburban_merge_table_1 = pd.merge(Suburban_Rides_By_City, Suburban_Avg_Fare_By_City, on=\"city\", how=\"right\")\n",
    "Suburban_merge_table_1 \n",
    "\n",
    "\n",
    "Suburban_drivers_per_city_demographics = Suburban_CR_df.loc[:, [\"city\", \"driver_count\"]]\n",
    "Suburban_drivers_per_city = pd.DataFrame(Suburban_drivers_per_city_demographics.drop_duplicates())\n",
    "\n",
    "Suburban_merge_table_2 = pd.merge(Suburban_merge_table_1 , Suburban_drivers_per_city, on=\"city\", how=\"right\")\n",
    "Suburban_merge_table_2\n",
    "\n",
    "Suburban_sumary_df = Suburban_merge_table_2.rename(columns={\"city\": \"city\",\n",
    "                                        \"ride_id\": \"Rides (per City)\",\n",
    "                                        \"fare\": \"Average Fare\",\n",
    "                                        \"driver_count\": \"Driver Density\",\n",
    "                                         })\n",
    "Suburban_sumary_df.head()"
   ]
  },
  {
   "cell_type": "code",
   "execution_count": 263,
   "metadata": {},
   "outputs": [
    {
     "data": {
      "text/html": [
       "<div>\n",
       "<style scoped>\n",
       "    .dataframe tbody tr th:only-of-type {\n",
       "        vertical-align: middle;\n",
       "    }\n",
       "\n",
       "    .dataframe tbody tr th {\n",
       "        vertical-align: top;\n",
       "    }\n",
       "\n",
       "    .dataframe thead th {\n",
       "        text-align: right;\n",
       "    }\n",
       "</style>\n",
       "<table border=\"1\" class=\"dataframe\">\n",
       "  <thead>\n",
       "    <tr style=\"text-align: right;\">\n",
       "      <th></th>\n",
       "      <th>city</th>\n",
       "      <th>Rides (per City)</th>\n",
       "      <th>Average Fare</th>\n",
       "      <th>Driver Density</th>\n",
       "    </tr>\n",
       "  </thead>\n",
       "  <tbody>\n",
       "    <tr>\n",
       "      <th>0</th>\n",
       "      <td>Bradshawfurt</td>\n",
       "      <td>10</td>\n",
       "      <td>40.064000</td>\n",
       "      <td>7</td>\n",
       "    </tr>\n",
       "    <tr>\n",
       "      <th>1</th>\n",
       "      <td>Garzaport</td>\n",
       "      <td>3</td>\n",
       "      <td>24.123333</td>\n",
       "      <td>7</td>\n",
       "    </tr>\n",
       "    <tr>\n",
       "      <th>2</th>\n",
       "      <td>Harringtonfort</td>\n",
       "      <td>6</td>\n",
       "      <td>33.470000</td>\n",
       "      <td>4</td>\n",
       "    </tr>\n",
       "    <tr>\n",
       "      <th>3</th>\n",
       "      <td>Jessicaport</td>\n",
       "      <td>6</td>\n",
       "      <td>36.013333</td>\n",
       "      <td>1</td>\n",
       "    </tr>\n",
       "    <tr>\n",
       "      <th>4</th>\n",
       "      <td>Lake Jamie</td>\n",
       "      <td>6</td>\n",
       "      <td>34.358333</td>\n",
       "      <td>4</td>\n",
       "    </tr>\n",
       "  </tbody>\n",
       "</table>\n",
       "</div>"
      ],
      "text/plain": [
       "             city  Rides (per City)  Average Fare  Driver Density\n",
       "0    Bradshawfurt                10     40.064000               7\n",
       "1       Garzaport                 3     24.123333               7\n",
       "2  Harringtonfort                 6     33.470000               4\n",
       "3     Jessicaport                 6     36.013333               1\n",
       "4      Lake Jamie                 6     34.358333               4"
      ]
     },
     "execution_count": 263,
     "metadata": {},
     "output_type": "execute_result"
    }
   ],
   "source": [
    "Rural_CR_df = city_and_ride_df.loc[city_and_ride_df[\"type\"] == \"Rural\", :]\n",
    "grouped_Rural_CR_df = Rural_CR_df.groupby([\"city\"])\n",
    "#print(\"_____\")\n",
    "Rural_Rides_By_City = pd.DataFrame(grouped_Rural_CR_df[\"ride_id\"].count())\n",
    "#print(Rural_Rides_By_City)\n",
    "\n",
    "Rural_Avg_Fare_By_City = pd.DataFrame(grouped_Rural_CR_df[\"fare\"].mean())\n",
    "#print(Rural_Avg_Fare_By_City)\n",
    "\n",
    "Rural_merge_table_1 = pd.merge(Rural_Rides_By_City, Rural_Avg_Fare_By_City, on=\"city\", how=\"right\")\n",
    "Rural_merge_table_1 \n",
    "\n",
    "\n",
    "drivers_per_city_demographics = Rural_CR_df.loc[:, [\"city\", \"driver_count\"]]\n",
    "drivers_per_city = pd.DataFrame(drivers_per_city_demographics.drop_duplicates())\n",
    "\n",
    "Rural_merge_table_2 = pd.merge(Rural_merge_table_1 , drivers_per_city, on=\"city\", how=\"right\")\n",
    "Rural_merge_table_2\n",
    "\n",
    "Rural_Summary_df = Rural_merge_table_2.rename(columns={\"city\": \"city\",\n",
    "                                        \"ride_id\": \"Rides (per City)\",\n",
    "                                        \"fare\": \"Average Fare\",\n",
    "                                        \"driver_count\": \"Driver Density\",\n",
    "                                         })\n",
    "Rural_Summary_df.head()\n",
    "\n",
    "#plt.scatter(x_axis, data, marker=\"o\", facecolors=\"red\", edgecolors=\"black\", s=x_axis, alpha=0.75)"
   ]
  },
  {
   "cell_type": "code",
   "execution_count": 246,
   "metadata": {},
   "outputs": [
    {
     "name": "stdout",
     "output_type": "stream",
     "text": [
      "______\n",
      "                city                 date   fare        ride_id  driver_count  \\\n",
      "2250  Randallchester  2018-04-13 11:13:31  43.22  1076079536213             9   \n",
      "\n",
      "       type  \n",
      "2250  Rural  \n",
      "______\n",
      "['Lake Jonathanshire' 'South Michelleport' 'Port Samanthamouth'\n",
      " 'Rodneyfort' 'South Jack' 'South Latoya' 'New Paulville' 'Simpsonburgh'\n",
      " 'South Karenland' 'North Jasmine' 'New Kimberlyborough' 'West Angela'\n",
      " 'Roberthaven' 'North Jason' 'Williamsview' 'Leahton' 'West Anthony'\n",
      " 'New Paulton' 'West Patrickchester' 'Deanville' 'West Josephberg'\n",
      " 'West Samuelburgh' 'West Heidi' 'Loganberg' 'Huntermouth' 'Grahamburgh'\n",
      " 'Port Frank' 'East Kaylahaven' 'West Robert' 'North Markport'\n",
      " 'Richardfort' 'Reynoldsfurt' 'Justinberg' 'Martinezhaven' 'Jerryton'\n",
      " 'Lake Scottton' 'South Evanton' 'Rogerston' 'West Ericstad' 'Hurleymouth'\n",
      " 'Joneschester' 'Port Angela' 'Barajasview' 'West Christopherberg'\n",
      " 'New Jacobville' 'Port David' 'Valentineton' 'Carriemouth' 'Williamsstad'\n",
      " 'Royland' 'Karenberg' 'Christopherfurt' 'Liumouth' 'Johnton' 'Erikaland'\n",
      " 'Raymondhaven' 'Karenside' 'Lake Danielberg' 'South Phillip'\n",
      " 'North Madeline' 'Port Johnbury' 'Robertport' 'Pattyland' 'Amandaburgh'\n",
      " 'North Barbara' 'West Gabriel']\n",
      "______\n",
      "There are 18 rural cities\n",
      "______\n",
      "There are 537 rural drivers\n",
      "______\n",
      "There are 125 rural riders\n",
      "______\n",
      "The average rural fare was $34.62344 .\n"
     ]
    },
    {
     "data": {
      "text/html": [
       "<div>\n",
       "<style scoped>\n",
       "    .dataframe tbody tr th:only-of-type {\n",
       "        vertical-align: middle;\n",
       "    }\n",
       "\n",
       "    .dataframe tbody tr th {\n",
       "        vertical-align: top;\n",
       "    }\n",
       "\n",
       "    .dataframe thead th {\n",
       "        text-align: right;\n",
       "    }\n",
       "</style>\n",
       "<table border=\"1\" class=\"dataframe\">\n",
       "  <thead>\n",
       "    <tr style=\"text-align: right;\">\n",
       "      <th></th>\n",
       "      <th>index</th>\n",
       "      <th>city</th>\n",
       "      <th>driver_count</th>\n",
       "    </tr>\n",
       "  </thead>\n",
       "  <tbody>\n",
       "    <tr>\n",
       "      <th>0</th>\n",
       "      <td>2250</td>\n",
       "      <td>Randallchester</td>\n",
       "      <td>9</td>\n",
       "    </tr>\n",
       "    <tr>\n",
       "      <th>1</th>\n",
       "      <td>2255</td>\n",
       "      <td>North Holly</td>\n",
       "      <td>8</td>\n",
       "    </tr>\n",
       "    <tr>\n",
       "      <th>2</th>\n",
       "      <td>2264</td>\n",
       "      <td>Michaelberg</td>\n",
       "      <td>6</td>\n",
       "    </tr>\n",
       "    <tr>\n",
       "      <th>3</th>\n",
       "      <td>2276</td>\n",
       "      <td>Lake Latoyabury</td>\n",
       "      <td>2</td>\n",
       "    </tr>\n",
       "    <tr>\n",
       "      <th>4</th>\n",
       "      <td>2287</td>\n",
       "      <td>Taylorhaven</td>\n",
       "      <td>1</td>\n",
       "    </tr>\n",
       "  </tbody>\n",
       "</table>\n",
       "</div>"
      ],
      "text/plain": [
       "   index             city  driver_count\n",
       "0   2250   Randallchester             9\n",
       "1   2255      North Holly             8\n",
       "2   2264      Michaelberg             6\n",
       "3   2276  Lake Latoyabury             2\n",
       "4   2287      Taylorhaven             1"
      ]
     },
     "execution_count": 246,
     "metadata": {},
     "output_type": "execute_result"
    }
   ],
   "source": [
    "Rural_CR_df = city_and_ride_df.loc[city_and_ride_df[\"type\"] == \"Rural\", :]\n",
    "print(\"______\")\n",
    "#Urban_CR_df[\"fare\"] = Urban_CR_df[\"fare\"].map(\"${:.2f}\".format)\n",
    "print(Rural_CR_df.head(1))\n",
    "\n",
    "print(\"______\")\n",
    "Rural_city_count_df=Rural_CR_df[\"city\"].unique()\n",
    "print(city_count_df)\n",
    "\n",
    "print(\"______\")\n",
    "Rural_city_count=len(Rural_city_count_df)\n",
    "print(\"There are \" + str(Rural_city_count) + \" rural cities\")\n",
    "\n",
    "print(\"______\")\n",
    "total_rural_driver_count=Rural_CR_df[\"driver_count\"].sum()\n",
    "print(\"There are \" + str(total_rural_driver_count)+ \" rural drivers\")\n",
    "\n",
    "print(\"______\")\n",
    "total_rural_rider_count=Rural_CR_df[\"ride_id\"].count()\n",
    "print(\"There are \" + str(total_rural_rider_count)+ \" rural riders\")\n",
    "\n",
    "print(\"______\")\n",
    "average_rural_fare=Rural_CR_df[\"fare\"].mean()\n",
    "print(\"The average rural fare was $\" + str(average_rural_fare)+ \" .\")\n",
    "\n",
    "# Create a data frame that has average fare pre city,number of rides per city, number of drivers per city\n",
    "# need average fare pre city\n",
    "# need total number of rides per city\n",
    "# need number of drivers per city\n",
    "\n",
    "drivers_per_city_demographics = Rural_CR_df.loc[:, [\"city\", \"driver_count\"]]\n",
    "drivers_per_city = drivers_per_city_demographics.drop_duplicates()\n",
    "drivers_per_city.reset_index(inplace=True)\n",
    "drivers_per_city.head()\n"
   ]
  },
  {
   "cell_type": "code",
   "execution_count": null,
   "metadata": {},
   "outputs": [],
   "source": [
    "Other_Purchases_df= player_purchase.loc[player_purchase[\"Gender\"]==\"Other / Non-Disclosed\"]\n",
    "other_purchase_count=len(Other_Purchases_df)\n",
    "Average_Other_Purchase_Price = Other_Purchases_df[\"Price\"].mean()\n",
    "Total_Other_Revenue=Other_Purchases_df[\"Price\"].sum()\n",
    "Avg_purchase_per_Person_Other=Total_Other_Revenue/other_purchase_count\n",
    "\n",
    "gender_purchase_data_frame =pd.DataFrame([\n",
    "        {\"Gender\": \"Male\", \"Purchase Count\":male_purchase_count,\"Average Purchase Price\":Average_Male_Purchase_Price,\n",
    "         \"Total Purchase Value\":Total_Male_Revenue, \"Average Purchase Total Per Person\":Avg_purchase_per_Person_Male},\n",
    "    {\"Gender\": \"Female\", \"Purchase Count\":female_purchase_count,\"Average Purchase Price\":Average_Female_Purchase_Price,\n",
    "         \"Total Purchase Value\":Total_Female_Revenue, \"Average Purchase Total Per Person\":Avg_purchase_per_Person_Female},\n",
    "    {\"Gender\": \"Other\", \"Purchase Count\":other_purchase_count,\"Average Purchase Price\":Average_Other_Purchase_Price,\n",
    "         \"Total Purchase Value\":Total_Other_Revenue, \"Average Purchase Total Per Person\":Avg_purchase_per_Person_Other}\n",
    "])"
   ]
  },
  {
   "cell_type": "code",
   "execution_count": 71,
   "metadata": {},
   "outputs": [
    {
     "name": "stdout",
     "output_type": "stream",
     "text": [
      "                 city                 date   fare        ride_id  \\\n",
      "0  Lake Jonathanshire  2018-01-14 10:14:22  13.83  5739410935873   \n",
      "\n",
      "   driver_count   type  \n",
      "0             5  Urban  \n",
      "               city                 date   fare        ride_id  driver_count  \\\n",
      "1625  Barronchester  2018-01-27 03:08:01  27.79  6653622887913            11   \n",
      "\n",
      "          type  \n",
      "1625  Suburban  \n",
      "                city                 date   fare        ride_id  driver_count  \\\n",
      "2250  Randallchester  2018-04-13 11:13:31  43.22  1076079536213             9   \n",
      "\n",
      "       type  \n",
      "2250  Rural  \n"
     ]
    }
   ],
   "source": [
    "# Filter the data for charting axis on city type and create DataFrames\n",
    "Urban_CR_df = city_and_ride_df.loc[city_and_ride_df[\"type\"] == \"Urban\", :]\n",
    "#Urban_CR_df[\"fare\"] = Urban_CR_df[\"fare\"].map(\"${:.2f}\".format)\n",
    "print(Urban_CR_df.head(1))\n",
    "\n",
    "Suburban_CR_df = city_and_ride_df.loc[city_and_ride_df[\"type\"] == \"Suburban\", :]\n",
    "#Suburban_CR_df[\"fare\"] = Suburban_CR_df[\"fare\"].map(\"${:.2f}\".format)\n",
    "print(Suburban_CR_df.head(1))\n",
    "\n",
    "Rural_CR_df = city_and_ride_df.loc[city_and_ride_df[\"type\"] == \"Rural\", :]\n",
    "#Rural_CR_df[\"fare\"] = Rural_CR_df[\"fare\"].map(\"${:.2f}\".format)\n",
    "print(Rural_CR_df.head(1))\n",
    "#Rural_CR_df"
   ]
  },
  {
   "cell_type": "code",
   "execution_count": 72,
   "metadata": {},
   "outputs": [
    {
     "name": "stdout",
     "output_type": "stream",
     "text": [
      "4.088181818181818\n",
      "4.541818181818182\n",
      "5.322727272727272\n"
     ]
    }
   ],
   "source": [
    "urban_increment=Urban_CR_df[\"fare\"].max()/(len(x_axis))\n",
    "print(urban_increment)\n",
    "\n",
    "suburban_increment=Suburban_CR_df[\"fare\"].max()/(len(x_axis))\n",
    "print(suburban_increment)\n",
    "\n",
    "rural_increment=Rural_CR_df[\"fare\"].max()/(len(x_axis))\n",
    "print(rural_increment)\n"
   ]
  },
  {
   "cell_type": "code",
   "execution_count": 77,
   "metadata": {},
   "outputs": [
    {
     "name": "stdout",
     "output_type": "stream",
     "text": [
      "___________\n",
      "1625\n",
      "24.525772307692307\n",
      "4.05\n",
      "44.97\n",
      "___________\n",
      "625\n",
      "30.970127999999992\n",
      "12.05\n",
      "49.96\n",
      "___________\n",
      "125\n",
      "34.62344\n",
      "10.11\n",
      "58.55\n"
     ]
    }
   ],
   "source": [
    "fare_max=city_and_ride_df[\"fare\"].max()\n",
    "\n",
    "#y_limit=60\n",
    "\n",
    "data_overall = np.arange(3.0,(fare_max+6.45),5)\n",
    "data_overall\n",
    "\n",
    "urban_fare_count=Urban_CR_df[\"fare\"].count()\n",
    "suburban_fare_count=Suburban_CR_df[\"fare\"].count()\n",
    "rural_fare_count=Rural_CR_df[\"fare\"].count()\n",
    "\n",
    "urban_fare_min=Urban_CR_df[\"fare\"].min()\n",
    "suburban_fare_min=Suburban_CR_df[\"fare\"].min()\n",
    "rural_fare_min=Rural_CR_df[\"fare\"].min()\n",
    "\n",
    "urban_fare_mean=Urban_CR_df[\"fare\"].mean()\n",
    "suburban_fare_mean=Suburban_CR_df[\"fare\"].mean()\n",
    "rural_fare_mean=Rural_CR_df[\"fare\"].mean()\n",
    "\n",
    "urban_fare_max=Urban_CR_df[\"fare\"].max()\n",
    "suburban_fare_max=Suburban_CR_df[\"fare\"].max()\n",
    "rural_fare_max=Rural_CR_df[\"fare\"].max()\n",
    "\n",
    "print(\"___________\")\n",
    "print(urban_fare_count)\n",
    "print(urban_fare_mean)\n",
    "print(urban_fare_min)\n",
    "print(urban_fare_max)\n",
    "print(\"___________\")\n",
    "print(suburban_fare_count)\n",
    "print(suburban_fare_mean)\n",
    "print(suburban_fare_min)\n",
    "print(suburban_fare_max)\n",
    "print(\"___________\")\n",
    "print(rural_fare_count)\n",
    "print(rural_fare_mean)\n",
    "print(rural_fare_min)\n",
    "print(rural_fare_max)"
   ]
  },
  {
   "cell_type": "code",
   "execution_count": 74,
   "metadata": {},
   "outputs": [
    {
     "data": {
      "text/plain": [
       "array([ 0.,  5., 10., 15., 20., 25., 30., 35., 40., 45., 50., 55., 60.])"
      ]
     },
     "execution_count": 74,
     "metadata": {},
     "output_type": "execute_result"
    }
   ],
   "source": [
    "data_urban= np.arange(0,(urban_fare_max+15.04),5)\n",
    "data_urban"
   ]
  },
  {
   "cell_type": "code",
   "execution_count": 75,
   "metadata": {},
   "outputs": [
    {
     "data": {
      "text/plain": [
       "array([ 0.,  5., 10., 15., 20., 25., 30., 35., 40., 45., 50., 55., 60.])"
      ]
     },
     "execution_count": 75,
     "metadata": {},
     "output_type": "execute_result"
    }
   ],
   "source": [
    "data_suburban= np.arange(0,(suburban_fare_max+13.45),5)\n",
    "data_suburban"
   ]
  },
  {
   "cell_type": "code",
   "execution_count": 76,
   "metadata": {},
   "outputs": [
    {
     "data": {
      "text/plain": [
       "array([ 0.,  5., 10., 15., 20., 25., 30., 35., 40., 45., 50., 55., 60.])"
      ]
     },
     "execution_count": 76,
     "metadata": {},
     "output_type": "execute_result"
    }
   ],
   "source": [
    "data_rural= np.arange(0,(rural_fare_max+2.45),5)\n",
    "data_rural"
   ]
  },
  {
   "cell_type": "code",
   "execution_count": null,
   "metadata": {},
   "outputs": [],
   "source": []
  },
  {
   "cell_type": "code",
   "execution_count": null,
   "metadata": {},
   "outputs": [],
   "source": [
    "# Build the scatter plots for each city types\n",
    "plt.scatter(x_axis, data, marker=\"o\", facecolors=\"red\", edgecolors=\"black\",\n",
    "            s=x_axis, alpha=0.75)"
   ]
  },
  {
   "cell_type": "code",
   "execution_count": null,
   "metadata": {},
   "outputs": [],
   "source": [
    "# Obtain the x and y coordinates for each of the three city types\n",
    "#Create a group for Urban, Suburban, Rural, then find limits for the groups if necessary.\n",
    "\n",
    "# The maximum x value for our chart will be 40\n",
    "x_limit_overall = 40\n",
    "\n",
    "# List of values from 0 to 40 each value being 1 greater than the last\n",
    "x_axis = np.arange(0, x_limit, 1)\n",
    "\n",
    "# Create an data array to use for our y values\n",
    "\n",
    "fare_max=city_and_ride_df[\"fare\"].max()\n",
    "\n",
    "#y_limit=60\n",
    "\n",
    "data_overall = np.arange(3.0,(fare_max+6.45),5)\n",
    "data_overall\n",
    "\n",
    "\n",
    "\n",
    "# Build the scatter plots for each city types\n",
    "\n",
    "# Incorporate the other graph properties\n",
    "\n",
    "# Create a legend\n",
    "\n",
    "# Incorporate a text label regarding circle size\n",
    "\n",
    "# Save Figure\n"
   ]
  },
  {
   "cell_type": "code",
   "execution_count": null,
   "metadata": {},
   "outputs": [],
   "source": [
    "# Show plot\n",
    "plt.show()"
   ]
  },
  {
   "cell_type": "markdown",
   "metadata": {},
   "source": [
    "## Total Fares by City Type"
   ]
  },
  {
   "cell_type": "code",
   "execution_count": null,
   "metadata": {},
   "outputs": [],
   "source": [
    "# Calculate Type Percents\n",
    "\n",
    "# Build Pie Chart\n",
    "\n",
    "# Save Figure\n"
   ]
  },
  {
   "cell_type": "code",
   "execution_count": null,
   "metadata": {},
   "outputs": [],
   "source": [
    "# Show Figure\n",
    "plt.show()"
   ]
  },
  {
   "cell_type": "markdown",
   "metadata": {},
   "source": [
    "## Total Rides by City Type"
   ]
  },
  {
   "cell_type": "code",
   "execution_count": null,
   "metadata": {},
   "outputs": [],
   "source": [
    "# Calculate Ride Percents\n",
    "\n",
    "# Build Pie Chart\n",
    "\n",
    "# Save Figure\n"
   ]
  },
  {
   "cell_type": "code",
   "execution_count": null,
   "metadata": {},
   "outputs": [],
   "source": [
    "# Show Figure\n",
    "plt.show()"
   ]
  },
  {
   "cell_type": "markdown",
   "metadata": {},
   "source": [
    "## Total Drivers by City Type"
   ]
  },
  {
   "cell_type": "code",
   "execution_count": null,
   "metadata": {},
   "outputs": [],
   "source": [
    "# Calculate Driver Percents\n",
    "\n",
    "# Build Pie Charts\n",
    "\n",
    "# Save Figure\n"
   ]
  },
  {
   "cell_type": "code",
   "execution_count": null,
   "metadata": {
    "scrolled": true
   },
   "outputs": [],
   "source": [
    "# Show Figure\n",
    "plt.show()"
   ]
  },
  {
   "cell_type": "code",
   "execution_count": null,
   "metadata": {},
   "outputs": [],
   "source": [
    "#=---print(\"_____\")\n",
    "#=---grouped_type_df = city_and_ride_df.groupby([\"type\"])\n",
    "#=---print(\"_____\")\n",
    "#=---type_count_df=pd.DataFrame(grouped_type_df[\"city\"].count())\n",
    "#=---type_count_df\n",
    "#for \n",
    "##count = Rural_CR_df[\"ride_id\"].value_counts()\n",
    "#count"
   ]
  }
 ],
 "metadata": {
  "anaconda-cloud": {},
  "kernelspec": {
   "display_name": "Python 3",
   "language": "python",
   "name": "python3"
  },
  "language_info": {
   "codemirror_mode": {
    "name": "ipython",
    "version": 3
   },
   "file_extension": ".py",
   "mimetype": "text/x-python",
   "name": "python",
   "nbconvert_exporter": "python",
   "pygments_lexer": "ipython3",
   "version": "3.6.5"
  }
 },
 "nbformat": 4,
 "nbformat_minor": 2
}
